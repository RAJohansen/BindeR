{
 "cells": [
  {
   "cell_type": "markdown",
   "metadata": {},
   "source": [
    "# Data Analysis and Visualization with R\n",
    "\n",
    "## Workshop Summary and Contact Information\n",
    "\n",
    "**Summary:** R is a free and powerful programming language that is commonly used by researchers in both qualitative and quantitative disciplines. R provides a near comprehensive, and still expanding set of research and data analysis tools. This workshop explores the power of R for data analysis and visualization. The focus of this workshop will be hands-on exercises. No programming experience is required, but a basic comprehension of programming and statistics is benefiticial.\n",
    "\n",
    "**Contact:**   \n",
    "Email: AskData@uc.edu  \n",
    "Location: 240 Braunstein Hall (GMP Library)  \n",
    "Research & Data Services Website: https://libraries.uc.edu/research-teaching-support/research-data-services.html\n",
    "GitHub: https://github.com/RAJohansen/UCL_Workshops\n",
    "Twitter: https://twitter.com/johansen_phd"
   ]
  },
  {
   "cell_type": "markdown",
   "metadata": {},
   "source": [
    "### Section I: Brief Introduction R \n",
    "\n",
    "##### 1. R for basic calculation"
   ]
  },
  {
   "cell_type": "code",
   "execution_count": 1,
   "metadata": {},
   "outputs": [
    {
     "data": {
      "text/html": [
       "5.38968387752153e-17"
      ],
      "text/latex": [
       "5.38968387752153e-17"
      ],
      "text/markdown": [
       "5.38968387752153e-17"
      ],
      "text/plain": [
       "[1] 5.389684e-17"
      ]
     },
     "metadata": {},
     "output_type": "display_data"
    }
   ],
   "source": [
    "sin(pi*15)/100"
   ]
  },
  {
   "cell_type": "markdown",
   "metadata": {},
   "source": [
    "##### 2. R Objects & Assignment\n",
    "R stores values and objects so they can be reused throughout an equation or script\\\n",
    "Hint alt - is a shortcut for the < - "
   ]
  },
  {
   "cell_type": "code",
   "execution_count": null,
   "metadata": {},
   "outputs": [],
   "source": [
    "x <- 1+2\n",
    "y <- x +1\n",
    "y"
   ]
  },
  {
   "cell_type": "markdown",
   "metadata": {},
   "source": [
    "#### 3. Understanding functions & Getting Help in R\n",
    "General recipe for functions:"
   ]
  },
  {
   "cell_type": "code",
   "execution_count": 2,
   "metadata": {},
   "outputs": [
    {
     "ename": "ERROR",
     "evalue": "Error in parse(text = x, srcfile = src): <text>:1:4: unexpected symbol\n1: {r eval\n       ^\n",
     "output_type": "error",
     "traceback": [
      "Error in parse(text = x, srcfile = src): <text>:1:4: unexpected symbol\n1: {r eval\n       ^\nTraceback:\n"
     ]
    }
   ],
   "source": [
    "#{r eval=FALSE}\n",
    "function_name(argument #1 = value #1,\n",
    "              argument #2 = value #2)"
   ]
  },
  {
   "cell_type": "markdown",
   "metadata": {},
   "source": [
    "Going back to our series task, we want to create a series of numbers from 1 to 100 by 2. Luckily there are many functions already available to use in base R (many many more available from packages, which we will discuss later).\\\n",
    "\\\n",
    "Given that we are just learning R, I will tell you that the function is called \"seq()\"\\\n",
    "The first thing I do when using a new functions is to look at the documentation. You can use the ? to find R documentation.\\"
   ]
  },
  {
   "cell_type": "markdown",
   "metadata": {},
   "source": [
    "**HINT: Scroll to the bottom of the help page for workable examples.**\\"
   ]
  },
  {
   "cell_type": "code",
   "execution_count": null,
   "metadata": {},
   "outputs": [],
   "source": [
    "?seq()"
   ]
  },
  {
   "cell_type": "markdown",
   "metadata": {},
   "source": [
    "**HINT: if you can't remember exactly what function you are looking for, Use Tab.**"
   ]
  },
  {
   "cell_type": "code",
   "execution_count": null,
   "metadata": {},
   "outputs": [],
   "source": [
    "me<tab>"
   ]
  },
  {
   "cell_type": "markdown",
   "metadata": {},
   "source": [
    "Additionally, if you are not sure what the function is called try a fuzzy search.\\"
   ]
  },
  {
   "cell_type": "code",
   "execution_count": null,
   "metadata": {},
   "outputs": [],
   "source": [
    "apropos(\"mea\") "
   ]
  },
  {
   "cell_type": "markdown",
   "metadata": {},
   "source": [
    "### Section II: Exploring the Tidyverse!\n",
    "\n",
    "#### Install and Load the tidyverse package"
   ]
  },
  {
   "cell_type": "code",
   "execution_count": null,
   "metadata": {},
   "outputs": [],
   "source": [
    "require(\"tidyverse\")\n",
    "require(\"gapminder\")"
   ]
  },
  {
   "cell_type": "markdown",
   "metadata": {},
   "source": [
    "#### Explore the Tidyverse \n",
    "https://www.tidyverse.org/\n",
    "\n",
    "R packages only have to be installed once but loaded everytime.\\\n",
    "Using require is a nice way to make sure every script has the packages needed which combines install.packages() & library()"
   ]
  },
  {
   "cell_type": "markdown",
   "metadata": {},
   "source": [
    "#### 1. Basic Data Exploration\n",
    "In this section we will use the gapminder data set\n",
    "https://www.gapminder.org/"
   ]
  },
  {
   "cell_type": "markdown",
   "metadata": {},
   "source": [
    "##### Lets assign this data to an object called \"gapminder\""
   ]
  },
  {
   "cell_type": "code",
   "execution_count": null,
   "metadata": {},
   "outputs": [],
   "source": [
    "# Lets assign this data to an object called \"gapminder\"\n",
    "gapminder <- gapminder"
   ]
  },
  {
   "cell_type": "markdown",
   "metadata": {},
   "source": [
    "##### View our table"
   ]
  },
  {
   "cell_type": "code",
   "execution_count": null,
   "metadata": {},
   "outputs": [],
   "source": [
    "View(gapminder)"
   ]
  },
  {
   "cell_type": "markdown",
   "metadata": {},
   "source": [
    "##### Lists the variables "
   ]
  },
  {
   "cell_type": "code",
   "execution_count": null,
   "metadata": {},
   "outputs": [],
   "source": [
    "names(gapminder)"
   ]
  },
  {
   "cell_type": "markdown",
   "metadata": {},
   "source": [
    "##### Lets Examine the structure of the data\n",
    "This will become very useful when we visualize or analyze data, because we must make sure our variables are in the appropriate format!!"
   ]
  },
  {
   "cell_type": "code",
   "execution_count": null,
   "metadata": {},
   "outputs": [],
   "source": [
    "str(gapminder)"
   ]
  },
  {
   "cell_type": "markdown",
   "metadata": {},
   "source": [
    "##### Statistical summary of the data"
   ]
  },
  {
   "cell_type": "code",
   "execution_count": null,
   "metadata": {},
   "outputs": [],
   "source": [
    "summary(gapminder)"
   ]
  },
  {
   "cell_type": "markdown",
   "metadata": {},
   "source": [
    "#### 2. Exploring our data further\n",
    "**HINT: Understanding how data is indexed is crutial for R programming**"
   ]
  },
  {
   "cell_type": "markdown",
   "metadata": {},
   "source": [
    "##### Lets look at column 2 "
   ]
  },
  {
   "cell_type": "code",
   "execution_count": null,
   "metadata": {},
   "outputs": [],
   "source": [
    "gapminder[,2]"
   ]
  },
  {
   "cell_type": "markdown",
   "metadata": {},
   "source": [
    "##### Lets look at row 5"
   ]
  },
  {
   "cell_type": "code",
   "execution_count": null,
   "metadata": {},
   "outputs": [],
   "source": [
    "gapminder[5,]"
   ]
  },
  {
   "cell_type": "markdown",
   "metadata": {},
   "source": [
    "##### Selecting a single cell (row 5 column 3)"
   ]
  },
  {
   "cell_type": "code",
   "execution_count": null,
   "metadata": {},
   "outputs": [],
   "source": [
    "gapminder[5,3]"
   ]
  },
  {
   "cell_type": "markdown",
   "metadata": {},
   "source": [
    "Based on this idea, we can make more complicated searches. Lets take the first ten observations and look at the variables:Country (1), Continent(2), Year (3), and population (5)"
   ]
  },
  {
   "cell_type": "code",
   "execution_count": null,
   "metadata": {},
   "outputs": [],
   "source": [
    "gapminder[1:10,c(1:3, 5)]"
   ]
  },
  {
   "cell_type": "markdown",
   "metadata": {},
   "source": [
    "##### What if we want to know the highest gpdPercap "
   ]
  },
  {
   "cell_type": "code",
   "execution_count": null,
   "metadata": {},
   "outputs": [],
   "source": [
    "max(gapminder$gdpPercap)"
   ]
  },
  {
   "cell_type": "markdown",
   "metadata": {},
   "source": [
    "##### Lets find the row number of the country with the highest gpdpercap\n",
    "Then show me all columns for row that row"
   ]
  },
  {
   "cell_type": "code",
   "execution_count": null,
   "metadata": {},
   "outputs": [],
   "source": [
    "which.max(gapminder$gdpPercap)\n",
    "gapminder[854,]"
   ]
  },
  {
   "cell_type": "markdown",
   "metadata": {},
   "source": [
    "#### 2. The filter verb\n",
    "The filter verb is used to look at a subset of a data set.\\\n",
    "Typically you combine filter with a pipe %>%"
   ]
  },
  {
   "cell_type": "markdown",
   "metadata": {},
   "source": [
    "Use the filter verb to find the the data for the US"
   ]
  },
  {
   "cell_type": "code",
   "execution_count": null,
   "metadata": {},
   "outputs": [],
   "source": [
    "gapminder %>% \n",
    "  filter(country == \"United States\")"
   ]
  },
  {
   "cell_type": "markdown",
   "metadata": {},
   "source": [
    "##### Multiple conditions\n",
    "Use filter to return the US for only the year 2007"
   ]
  },
  {
   "cell_type": "code",
   "execution_count": null,
   "metadata": {},
   "outputs": [],
   "source": [
    "gapminder %>% \n",
    "  filter(year == 2007, country == \"United States\")"
   ]
  },
  {
   "cell_type": "markdown",
   "metadata": {},
   "source": [
    "#### The arrange verb \n",
    "Used for sorting data by ascending or descending condition\\"
   ]
  },
  {
   "cell_type": "markdown",
   "metadata": {},
   "source": [
    "##### Ascending Order\n",
    "Use the arrange verb to sort the data in ascending order by GDP per capita"
   ]
  },
  {
   "cell_type": "code",
   "execution_count": null,
   "metadata": {},
   "outputs": [],
   "source": [
    "gapminder %>% \n",
    "  arrange(gdpPercap)"
   ]
  },
  {
   "cell_type": "markdown",
   "metadata": {},
   "source": [
    "##### Descending order"
   ]
  },
  {
   "cell_type": "code",
   "execution_count": null,
   "metadata": {},
   "outputs": [],
   "source": [
    "gapminder %>% \n",
    "  arrange(desc(gdpPercap))"
   ]
  },
  {
   "cell_type": "markdown",
   "metadata": {},
   "source": [
    "##### Combining verbs\n",
    "Use filter and arrange to return the results for 2007 in ascending order by GDP per capita"
   ]
  },
  {
   "cell_type": "code",
   "execution_count": null,
   "metadata": {},
   "outputs": [],
   "source": [
    "gapminder %>% \n",
    "  filter(year == 2007) %>% \n",
    "  arrange(gdpPercap)"
   ]
  },
  {
   "cell_type": "markdown",
   "metadata": {},
   "source": [
    "#### The mutate verb\n",
    "Change or Add variables to a data set"
   ]
  },
  {
   "cell_type": "markdown",
   "metadata": {},
   "source": [
    "##### Change a variable"
   ]
  },
  {
   "cell_type": "code",
   "execution_count": null,
   "metadata": {},
   "outputs": [],
   "source": [
    "gapminder %>% \n",
    "  mutate(pop = pop/1000000)"
   ]
  },
  {
   "cell_type": "markdown",
   "metadata": {},
   "source": [
    "##### Add a new variable called gdp"
   ]
  },
  {
   "cell_type": "code",
   "execution_count": null,
   "metadata": {},
   "outputs": [],
   "source": [
    "gapminder %>% \n",
    "  mutate(gdp = gdpPercap * pop)"
   ]
  },
  {
   "cell_type": "markdown",
   "metadata": {},
   "source": [
    "#### Combine all three verbs "
   ]
  },
  {
   "cell_type": "code",
   "execution_count": null,
   "metadata": {},
   "outputs": [],
   "source": [
    "gapminder %>% \n",
    "  mutate(gdp = gdpPercap * pop) %>% \n",
    "  filter(year == 2007) %>% \n",
    "  arrange(desc(gdp))"
   ]
  },
  {
   "cell_type": "markdown",
   "metadata": {},
   "source": [
    "#### The Summarize Verb \n",
    "##### Summarize entire data set"
   ]
  },
  {
   "cell_type": "code",
   "execution_count": null,
   "metadata": {},
   "outputs": [],
   "source": [
    "gapminder %>% \n",
    "  summarize(meanLifeExp = mean(lifeExp))"
   ]
  },
  {
   "cell_type": "markdown",
   "metadata": {},
   "source": [
    "##### What if we want to return the mean life exp just for 2007"
   ]
  },
  {
   "cell_type": "code",
   "execution_count": null,
   "metadata": {},
   "outputs": [],
   "source": [
    "gapminder %>% \n",
    "  filter(year == 2007) %>% \n",
    "  summarize(meanLifeExp = mean(lifeExp))"
   ]
  },
  {
   "cell_type": "markdown",
   "metadata": {},
   "source": [
    "##### Creating multiple Summaries"
   ]
  },
  {
   "cell_type": "code",
   "execution_count": null,
   "metadata": {},
   "outputs": [],
   "source": [
    "gapminder %>% \n",
    "  filter(year == 2007) %>% \n",
    "  summarize(meanLifeExp = mean(lifeExp),\n",
    "            totalPop = sum(pop))"
   ]
  },
  {
   "cell_type": "markdown",
   "metadata": {},
   "source": [
    "**HINT: What data type is pop? Use str(gapminder)**\n",
    "##### Convert pop to a numeric data type instead of an integer"
   ]
  },
  {
   "cell_type": "code",
   "execution_count": null,
   "metadata": {},
   "outputs": [],
   "source": [
    "gapminder$pop <- as.numeric(gapminder$pop)"
   ]
  },
  {
   "cell_type": "code",
   "execution_count": null,
   "metadata": {},
   "outputs": [],
   "source": [
    "gapminder %>% \n",
    "  filter(year == 2007) %>% \n",
    "  summarize(meanLifeExp = mean(lifeExp),\n",
    "            totalPop = sum(pop))"
   ]
  },
  {
   "cell_type": "markdown",
   "metadata": {},
   "source": [
    "#### The group_by Verb \n",
    "The group_by verb is useful for creating aggregated groups, especially when combined with the summarize function"
   ]
  },
  {
   "cell_type": "markdown",
   "metadata": {},
   "source": [
    "##### Summarize by each unique year"
   ]
  },
  {
   "cell_type": "code",
   "execution_count": null,
   "metadata": {},
   "outputs": [],
   "source": [
    "gapminder %>% \n",
    "  group_by(year) %>% \n",
    "  summarize(meanLifeExp = mean(lifeExp),\n",
    "            totalPop = sum(pop))"
   ]
  },
  {
   "cell_type": "markdown",
   "metadata": {},
   "source": [
    "##### Summarize data from 2007 by continent"
   ]
  },
  {
   "cell_type": "code",
   "execution_count": null,
   "metadata": {},
   "outputs": [],
   "source": [
    "gapminder %>% \n",
    "  filter(year == 2007) %>% \n",
    "  group_by(continent) %>% \n",
    "  summarize(meanLifeExp = mean(lifeExp),\n",
    "            totalPop = sum(pop))"
   ]
  },
  {
   "cell_type": "markdown",
   "metadata": {},
   "source": [
    "##### What if we want to summarize by continent over all years?\n",
    "**HINT: Simply add an additional arguement to the group_by verb**"
   ]
  },
  {
   "cell_type": "code",
   "execution_count": null,
   "metadata": {},
   "outputs": [],
   "source": [
    "gapminder %>% \n",
    "  group_by(year, continent) %>% \n",
    "  summarize(meanLifeExp = mean(lifeExp),\n",
    "            totalPop = sum(pop))"
   ]
  },
  {
   "cell_type": "markdown",
   "metadata": {},
   "source": [
    "#### Section II Task\n",
    "Answer the following questions using the mtcars dataset"
   ]
  },
  {
   "cell_type": "code",
   "execution_count": null,
   "metadata": {},
   "outputs": [],
   "source": [
    "mtcars <- mtcars\n",
    "#View()\n",
    "#Str()\n",
    "#names()"
   ]
  },
  {
   "cell_type": "markdown",
   "metadata": {},
   "source": [
    "##### Find the median mpg & wt for each group of cylinders "
   ]
  },
  {
   "cell_type": "code",
   "execution_count": null,
   "metadata": {},
   "outputs": [],
   "source": [
    "mtcars %>% \n",
    "  group_by() %>% \n",
    "  summarize( = median(),\n",
    "             = median())"
   ]
  },
  {
   "cell_type": "markdown",
   "metadata": {},
   "source": [
    "### Section III: Data Visualization\n",
    "\n",
    "Useful resources for using base plot in R: \\\n",
    "https://www.harding.edu/fmccown/r/ \\\n",
    "https://www.statmethods.net/graphs/index.html"
   ]
  },
  {
   "cell_type": "markdown",
   "metadata": {},
   "source": [
    "#### 1. Default Plot"
   ]
  },
  {
   "cell_type": "code",
   "execution_count": null,
   "metadata": {},
   "outputs": [],
   "source": [
    "plot(mtcars$mpg)"
   ]
  },
  {
   "cell_type": "markdown",
   "metadata": {},
   "source": [
    "#### 2. Dotchart"
   ]
  },
  {
   "cell_type": "code",
   "execution_count": null,
   "metadata": {},
   "outputs": [],
   "source": [
    "dotchart(mtcars$mpg)"
   ]
  },
  {
   "cell_type": "markdown",
   "metadata": {},
   "source": [
    "##### Adding details and labels to a Simple Dotplot"
   ]
  },
  {
   "cell_type": "code",
   "execution_count": null,
   "metadata": {},
   "outputs": [],
   "source": [
    "dotchart(mtcars$mpg,\n",
    "         labels=row.names(mtcars),\n",
    "         main=\"Gas Milage for Car Models\", \n",
    "         xlab=\"Miles Per Gallon\")"
   ]
  },
  {
   "cell_type": "markdown",
   "metadata": {},
   "source": [
    "#### 3. Histogram"
   ]
  },
  {
   "cell_type": "code",
   "execution_count": null,
   "metadata": {},
   "outputs": [],
   "source": [
    "hist(mtcars$mpg)"
   ]
  },
  {
   "cell_type": "markdown",
   "metadata": {},
   "source": [
    "##### Add color and explore bin sizes"
   ]
  },
  {
   "cell_type": "code",
   "execution_count": null,
   "metadata": {},
   "outputs": [],
   "source": [
    "hist(mtcars$mpg, breaks=5, col=\"red\")\n",
    "hist(mtcars$mpg, breaks=10, col=\"red\")\n",
    "hist(mtcars$mpg, breaks=15, col=\"red\")"
   ]
  },
  {
   "cell_type": "markdown",
   "metadata": {},
   "source": [
    "#### 4. Kernel Density Plot\n",
    "First you need to save the density of the data you want to an R object\\\n",
    "Then plot that object using plot()"
   ]
  },
  {
   "cell_type": "code",
   "execution_count": null,
   "metadata": {},
   "outputs": [],
   "source": [
    "d <- density(mtcars$mpg) # returns the density data \n",
    "plot(d) # plots the results"
   ]
  },
  {
   "cell_type": "markdown",
   "metadata": {},
   "source": [
    "#### 5. Barplot"
   ]
  },
  {
   "cell_type": "code",
   "execution_count": null,
   "metadata": {},
   "outputs": [],
   "source": [
    "barplot(mtcars$cyl)"
   ]
  },
  {
   "cell_type": "markdown",
   "metadata": {},
   "source": [
    "**HINT:** To fist create a variable called \"count\" to count the number of each group\\\n",
    "Then use the barplot() function on the object counts"
   ]
  },
  {
   "cell_type": "code",
   "execution_count": null,
   "metadata": {},
   "outputs": [],
   "source": [
    "counts <- table(mtcars$cyl)\n",
    "barplot(counts)"
   ]
  },
  {
   "cell_type": "markdown",
   "metadata": {},
   "source": [
    "##### Add Chart Title and Axes"
   ]
  },
  {
   "cell_type": "code",
   "execution_count": null,
   "metadata": {},
   "outputs": [],
   "source": [
    "barplot(counts, \n",
    "        main=\"Car Distribution\", \n",
    "        xlab=\"Number of Gears\")"
   ]
  },
  {
   "cell_type": "markdown",
   "metadata": {},
   "source": [
    "##### Converting a Bar chart into a Stacked Bar"
   ]
  },
  {
   "cell_type": "code",
   "execution_count": null,
   "metadata": {},
   "outputs": [],
   "source": [
    "counts <- table(mtcars$cyl, mtcars$gear)\n",
    "barplot(counts,\n",
    "        main=\"Car Distribution by Cylinders and Gears\",\n",
    "        xlab=\"Number of Gears\",\n",
    "        col = c(\"darkred\",\"darkblue\",\"orange\"),\n",
    "        legend = rownames(counts))"
   ]
  },
  {
   "cell_type": "markdown",
   "metadata": {},
   "source": [
    "#### 6. Box Plots"
   ]
  },
  {
   "cell_type": "code",
   "execution_count": null,
   "metadata": {},
   "outputs": [],
   "source": [
    "boxplot(mtcars$mpg~mtcars$cyl)"
   ]
  },
  {
   "cell_type": "code",
   "execution_count": null,
   "metadata": {},
   "outputs": [],
   "source": [
    "boxplot(mpg~cyl,\n",
    "        data=mtcars,\n",
    "        main=\"Car Milage Data\", \n",
    "        xlab=\"Number of Cylinders\",\n",
    "        ylab=\"Miles Per Gallon\")"
   ]
  },
  {
   "cell_type": "markdown",
   "metadata": {},
   "source": [
    "#### 7. Pie Charts"
   ]
  },
  {
   "cell_type": "code",
   "execution_count": null,
   "metadata": {},
   "outputs": [],
   "source": [
    "slices <- table(mtcars$cyl)\n",
    "lbls <- c(\"Four\", \"Six\", \"Eight\")\n",
    "pie(slices,\n",
    "    labels = lbls,\n",
    "    main=\"Pie Chart of mtcars Cylindars\")"
   ]
  },
  {
   "cell_type": "markdown",
   "metadata": {},
   "source": [
    "#### 8. Scatterplot\n",
    "##### Simple Scatterplot"
   ]
  },
  {
   "cell_type": "code",
   "execution_count": null,
   "metadata": {},
   "outputs": [],
   "source": [
    "plot(mtcars$wt,mtcars$mpg)"
   ]
  },
  {
   "cell_type": "code",
   "execution_count": null,
   "metadata": {},
   "outputs": [],
   "source": [
    "plot(mtcars$wt, mtcars$mpg,\n",
    "     main=\"Scatterplot Example\", \n",
    "     xlab=\"Car Weight \",\n",
    "     ylab=\"Miles Per Gallon \",\n",
    "     pch=19)"
   ]
  },
  {
   "cell_type": "markdown",
   "metadata": {},
   "source": [
    "#####Add linear regression line \n",
    "Regression line is (y~x) "
   ]
  },
  {
   "cell_type": "code",
   "execution_count": null,
   "metadata": {},
   "outputs": [],
   "source": [
    "plot(mtcars$wt, mtcars$mpg,\n",
    "     main=\"Scatterplot Example\", \n",
    "     xlab=\"Car Weight \",\n",
    "     ylab=\"Miles Per Gallon \",\n",
    "     pch=19,\n",
    "     abline(lm(mtcars$mpg~mtcars$wt), col=\"red\"))"
   ]
  },
  {
   "cell_type": "markdown",
   "metadata": {},
   "source": [
    "#### 9. Line Graphs"
   ]
  },
  {
   "cell_type": "code",
   "execution_count": null,
   "metadata": {},
   "outputs": [],
   "source": [
    "lines <- c(1:2,4,7,5,8,10,7)\n",
    "plot(lines)"
   ]
  },
  {
   "cell_type": "code",
   "execution_count": null,
   "metadata": {},
   "outputs": [],
   "source": [
    "plot(lines, type=\"o\", col=\"blue\")"
   ]
  },
  {
   "cell_type": "code",
   "execution_count": null,
   "metadata": {},
   "outputs": [],
   "source": [
    "plot(lines, type=\"o\", col=\"blue\",\n",
    "     main=\"My Line Graph\")"
   ]
  },
  {
   "cell_type": "markdown",
   "metadata": {},
   "source": [
    "#### 10. Get Inspired!!! \n",
    "##### Use the Iris data set to make a scatterplot matrix"
   ]
  },
  {
   "cell_type": "code",
   "execution_count": null,
   "metadata": {},
   "outputs": [],
   "source": [
    "data(\"iris\")\n",
    "pairs(iris[1:4]) #only quantitative variables"
   ]
  },
  {
   "cell_type": "markdown",
   "metadata": {},
   "source": [
    "##### Explore pastel theme in RColorBrewer (Might not work in Jupyter)"
   ]
  },
  {
   "cell_type": "code",
   "execution_count": null,
   "metadata": {},
   "outputs": [],
   "source": [
    "require(\"RColorBrewer\")\n",
    "display.brewer.pal(3,\"Pastel1\") #display colorpalette"
   ]
  },
  {
   "cell_type": "code",
   "execution_count": null,
   "metadata": {},
   "outputs": [],
   "source": [
    "##### Use the function below to modify the scatterplot matrix\n",
    "Put Histograms on the diagonal (from \"pairs\" Help)"
   ]
  },
  {
   "cell_type": "code",
   "execution_count": null,
   "metadata": {},
   "outputs": [],
   "source": [
    "panel.hist  <- function(x,...)\n",
    "{\n",
    "  usr <- par(\"usr\"); on.exit(par(usr))\n",
    "  par(usr = c(usr[1:2], 0,1.5) )\n",
    "  h <- hist(x, plot = FALSE)\n",
    "  breaks <- h$breaks; nB <- length(breaks)\n",
    "  y <- h$counts; y <- y/max(y)\n",
    "  rect(breaks[-nB], 0, breaks[-1], y, ...)\n",
    "}\n",
    "\n",
    "# Create a fancy scatterplot matrix\n",
    "\n",
    "pairs(iris[1:4],\n",
    "      panel = panel.smooth,\n",
    "      main = \"Scatterplot Maxtris for Iris Data Using pairs Function\",\n",
    "      diag.panel = panel.hist,\n",
    "      pch = 16,\n",
    "      col = brewer.pal(3, \"Pastel1\")[unclass(iris$Species)])\n",
    "\n",
    "# jpeg('C:/temp/My_Awesome_Plot.jpg')\n",
    "# Run your fancy scatter plot matrix code here!\n",
    "#dev.off()\n"
   ]
  },
  {
   "cell_type": "markdown",
   "metadata": {},
   "source": [
    "### Section IV: Data Analysis\n",
    "#### 1. Basic Stats with R\n",
    "Statistics are used to summerize data!\\\n",
    "We use stats because it is difficult to memorize and decipher raw numbers\\"
   ]
  },
  {
   "cell_type": "markdown",
   "metadata": {},
   "source": [
    "#####**Example 1: Average daily car traffic for a week **"
   ]
  },
  {
   "cell_type": "code",
   "execution_count": null,
   "metadata": {},
   "outputs": [],
   "source": [
    "total <- sum(5,16,15,16,13,20,25)\n",
    "days <- 7\n",
    "total/days"
   ]
  },
  {
   "cell_type": "markdown",
   "metadata": {},
   "source": [
    "##### Two basic types of Statistics\n",
    "**Descriptive Stats:** Uses data to describe the characteristics of a group\n",
    "**Inferential Stats:** Uses the data to make predictions or draw conclusions"
   ]
  },
  {
   "cell_type": "markdown",
   "metadata": {},
   "source": [
    "#### 2. Calculating descriptive statistics \n",
    "One variable vs. the Entire Data set"
   ]
  },
  {
   "cell_type": "code",
   "execution_count": null,
   "metadata": {},
   "outputs": [],
   "source": [
    "summary(mtcars$mpg)"
   ]
  },
  {
   "cell_type": "code",
   "execution_count": null,
   "metadata": {},
   "outputs": [],
   "source": [
    "summary(mtcars)"
   ]
  },
  {
   "cell_type": "markdown",
   "metadata": {},
   "source": [
    "Tukey's five-number summary: Min, Lower-hinge, Median, Upper-Hinge, Max (Not Labeled)\n",
    "**Hint:: These five numbers are the same as a boxplot**"
   ]
  },
  {
   "cell_type": "code",
   "execution_count": null,
   "metadata": {},
   "outputs": [],
   "source": [
    "fivenum(cars$mpg)"
   ]
  },
  {
   "cell_type": "markdown",
   "metadata": {},
   "source": [
    "##### Alternative Descriptive Stats using the psych package\n",
    "vars, n, mean, sd, median, trimmed, mad, min, max, range, skew, kurtosis, se"
   ]
  },
  {
   "cell_type": "code",
   "execution_count": null,
   "metadata": {},
   "outputs": [],
   "source": [
    "#install.packages(\"psych\")\n",
    "library(psych)\n",
    "describe(mtcars)  #vars, n, mean, sd, median, trimmed, mad, min, max, range, skew, kurtosis, se"
   ]
  },
  {
   "cell_type": "markdown",
   "metadata": {},
   "source": [
    "##### Alternative Descriptive Stats using the pastecs pacakge"
   ]
  },
  {
   "cell_type": "code",
   "execution_count": null,
   "metadata": {},
   "outputs": [],
   "source": [
    "#install.packages(\"pastecs\")\n",
    "library(pastecs)\n",
    "?stat.desc()\n",
    "stat.desc(mtcars)"
   ]
  },
  {
   "cell_type": "markdown",
   "metadata": {},
   "source": [
    "#### 3. Analyzing data by groups\n",
    "For this section we will use the iris dataset"
   ]
  },
  {
   "cell_type": "code",
   "execution_count": null,
   "metadata": {},
   "outputs": [],
   "source": [
    "data(iris)\n",
    "View(iris)\n",
    "mean(iris$Petal.Width) #mean of all observation's petal.width"
   ]
  },
  {
   "cell_type": "markdown",
   "metadata": {},
   "source": [
    "##### Split the data file and repeat analysis using \"aggregate\"\n",
    "Allowing for the comparison of means by group"
   ]
  },
  {
   "cell_type": "code",
   "execution_count": null,
   "metadata": {},
   "outputs": [],
   "source": [
    "aggregate(iris$Petal.Width ~ iris$Species, FUN = mean) # ~ means a function of...\n",
    "means <- aggregate(iris$Petal.Width ~ iris$Species, FUN = mean)\n",
    "plot(means)"
   ]
  },
  {
   "cell_type": "markdown",
   "metadata": {},
   "source": [
    "**Hint:** There is significant difference between species"
   ]
  },
  {
   "cell_type": "markdown",
   "metadata": {},
   "source": [
    "##### Conducting multiple calculations at once\n",
    "**Hint:** The results do not keep the column headers so you need to remember the order you wrote them"
   ]
  },
  {
   "cell_type": "code",
   "execution_count": null,
   "metadata": {},
   "outputs": [],
   "source": [
    "aggregate(cbind(iris$Petal.Width, iris$Petal.Length)~ iris$Species, FUN = mean)"
   ]
  },
  {
   "cell_type": "markdown",
   "metadata": {},
   "source": [
    "#### 4. Calculating Correlations"
   ]
  },
  {
   "cell_type": "markdown",
   "metadata": {},
   "source": [
    "##### Create a correlation matrix"
   ]
  },
  {
   "cell_type": "code",
   "execution_count": null,
   "metadata": {},
   "outputs": [],
   "source": [
    "mtcars <- mtcars\n",
    "cor(mtcars)"
   ]
  },
  {
   "cell_type": "markdown",
   "metadata": {},
   "source": [
    "##### Simplify the matrix to increase readability \n",
    "We can use the round() function to wrap the cor() function"
   ]
  },
  {
   "cell_type": "code",
   "execution_count": null,
   "metadata": {},
   "outputs": [],
   "source": [
    "round(cor(mtcars), 2)"
   ]
  },
  {
   "cell_type": "markdown",
   "metadata": {},
   "source": [
    "##### Correlate One pair of variables at a time\n",
    "Derives r, hypothesis test, and CI\\\n",
    "Pearson's product-moment correlation\\"
   ]
  },
  {
   "cell_type": "code",
   "execution_count": null,
   "metadata": {},
   "outputs": [],
   "source": [
    "cor.test(mtcars$mpg, mtcars$wt)"
   ]
  },
  {
   "cell_type": "markdown",
   "metadata": {},
   "source": [
    "##### Graphical Check of bivariate regression"
   ]
  },
  {
   "cell_type": "code",
   "execution_count": null,
   "metadata": {},
   "outputs": [],
   "source": [
    "hist(mtcars$mpg)\n",
    "hist(mtcars$wt)\n",
    "plot(mtcars$wt, mtcars$mpg, abline(lm(mtcars$mpg~mtcars$wt)))"
   ]
  },
  {
   "cell_type": "markdown",
   "metadata": {},
   "source": [
    "#### 5. Creating a Linear regression model\n",
    "**Correlation:** is the strength of the association\n",
    "**Regression:** is a function that can be used to predict values of another variable"
   ]
  },
  {
   "cell_type": "markdown",
   "metadata": {},
   "source": [
    "##### Create a LM for miles per gallon & weight from mtcars"
   ]
  },
  {
   "cell_type": "code",
   "execution_count": null,
   "metadata": {},
   "outputs": [],
   "source": [
    "reg1 <- lm(mpg~wt, data = mtcars)\n",
    "reg1"
   ]
  },
  {
   "cell_type": "code",
   "execution_count": null,
   "metadata": {},
   "outputs": [],
   "source": [
    "summary(reg1)"
   ]
  },
  {
   "cell_type": "markdown",
   "metadata": {},
   "source": [
    "The slope being statsitcally significant means that wt is a good predictor of mpg\\\n",
    "The variable weight can accounts for 0.75 or 75% of the variation in mpg\\"
   ]
  },
  {
   "cell_type": "markdown",
   "metadata": {},
   "source": [
    "#### 6. Calculate Multiple Regression\n",
    "\n",
    "**Hint:** Saving models as an R object allows for the extraction of additional information from model"
   ]
  },
  {
   "cell_type": "markdown",
   "metadata": {},
   "source": [
    "##### Use Six Predictors to model mpg"
   ]
  },
  {
   "cell_type": "code",
   "execution_count": null,
   "metadata": {},
   "outputs": [],
   "source": [
    "reg1 <- lm(mpg ~cyl + disp + hp + wt + gear + carb, \n",
    "           data = mtcars)\n",
    "reg1"
   ]
  },
  {
   "cell_type": "markdown",
   "metadata": {},
   "source": [
    "##### Extract model details"
   ]
  },
  {
   "cell_type": "code",
   "execution_count": null,
   "metadata": {},
   "outputs": [],
   "source": [
    "summary(reg1)\n",
    "anova(reg1)\n",
    "coef(reg1)\n",
    "confint(reg1) #Confindence intervals for coefficients\n",
    "resid(reg1)\n",
    "hist(residuals(reg1)) #histogram of the residuals"
   ]
  }
 ],
 "metadata": {
  "kernelspec": {
   "display_name": "R",
   "language": "R",
   "name": "ir"
  },
  "language_info": {
   "codemirror_mode": "r",
   "file_extension": ".r",
   "mimetype": "text/x-r-source",
   "name": "R",
   "pygments_lexer": "r",
   "version": "3.6.0"
  }
 },
 "nbformat": 4,
 "nbformat_minor": 4
}
