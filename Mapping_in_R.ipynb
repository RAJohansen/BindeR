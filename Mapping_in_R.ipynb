{
 "cells": [
  {
   "cell_type": "markdown",
   "metadata": {},
   "source": [
    "# Title: Mapping in R\n",
    "### Authors: Richard Johansen\n",
    "### University of Cincinnati Libraries\n",
    "### 4/18/2019"
   ]
  },
  {
   "cell_type": "markdown",
   "metadata": {},
   "source": [
    "### REFERENCES:\n",
    "Code: https://github.com/RAJohansen/UCL_Workshops/tree/master/Mapping_in_R\n",
    "Data: www.gapminder.org/data/\n",
    "Geocomputation in R: https://geocompr.robinlovelace.net/ "
   ]
  },
  {
   "cell_type": "markdown",
   "metadata": {},
   "source": [
    "### Section I: Introduction to R"
   ]
  },
  {
   "cell_type": "markdown",
   "metadata": {},
   "source": [
    "#### Step 1: Load Required Packages"
   ]
  },
  {
   "cell_type": "code",
   "execution_count": 1,
   "metadata": {},
   "outputs": [
    {
     "name": "stderr",
     "output_type": "stream",
     "text": [
      "── \u001b[1mAttaching packages\u001b[22m ─────────────────────────────────────── tidyverse 1.2.1 ──\n",
      "\u001b[32m✔\u001b[39m \u001b[34mggplot2\u001b[39m 3.1.0       \u001b[32m✔\u001b[39m \u001b[34mpurrr  \u001b[39m 0.3.2  \n",
      "\u001b[32m✔\u001b[39m \u001b[34mtibble \u001b[39m 2.1.1       \u001b[32m✔\u001b[39m \u001b[34mdplyr  \u001b[39m 0.8.0.\u001b[31m1\u001b[39m\n",
      "\u001b[32m✔\u001b[39m \u001b[34mtidyr  \u001b[39m 0.8.3       \u001b[32m✔\u001b[39m \u001b[34mstringr\u001b[39m 1.4.0  \n",
      "\u001b[32m✔\u001b[39m \u001b[34mreadr  \u001b[39m 1.3.1       \u001b[32m✔\u001b[39m \u001b[34mforcats\u001b[39m 0.4.0  \n",
      "── \u001b[1mConflicts\u001b[22m ────────────────────────────────────────── tidyverse_conflicts() ──\n",
      "\u001b[31m✖\u001b[39m \u001b[34mdplyr\u001b[39m::\u001b[32mfilter()\u001b[39m masks \u001b[34mstats\u001b[39m::filter()\n",
      "\u001b[31m✖\u001b[39m \u001b[34mdplyr\u001b[39m::\u001b[32mlag()\u001b[39m    masks \u001b[34mstats\u001b[39m::lag()\n"
     ]
    },
    {
     "ename": "ERROR",
     "evalue": "Error in library(gapminder): there is no package called ‘gapminder’\n",
     "output_type": "error",
     "traceback": [
      "Error in library(gapminder): there is no package called ‘gapminder’\nTraceback:\n",
      "1. library(gapminder)",
      "2. stop(txt, domain = NA)"
     ]
    }
   ],
   "source": [
    "# install.packages(c(\"tidyverse\",\"gapminder\", \"maptools\",\"tmap\", \"marmap\", \"spData\", \"spDataLarge\", \"spDataLarge\"))\n",
    "\n",
    "library(tidyverse)\n",
    "library(tmap)\n",
    "library(leaflet)\n",
    "library(spData)\n",
    "library(lattice)\n",
    "library(maptools)\n",
    "library(gapminder)"
   ]
  },
  {
   "cell_type": "markdown",
   "metadata": {},
   "source": [
    "#### Step 2: Create an R Object (data frame) from the data _gapminder_"
   ]
  },
  {
   "cell_type": "code",
   "execution_count": null,
   "metadata": {},
   "outputs": [],
   "source": [
    "df <- gapminder"
   ]
  },
  {
   "cell_type": "markdown",
   "metadata": {},
   "source": [
    "#### Step 3: Explore the dataframe _df_ \n",
    "\n",
    "1. How many variables are in the data?\n",
    "2. How many observations are there in the data?\n",
    "3. What type of data is this?\n",
    "4. Do you have expectations at this point?"
   ]
  },
  {
   "cell_type": "code",
   "execution_count": null,
   "metadata": {},
   "outputs": [],
   "source": [
    "str(df)\n",
    "head(df)\n",
    "tail(df)"
   ]
  },
  {
   "cell_type": "markdown",
   "metadata": {},
   "source": [
    "We can create a table to quickly view the number of observations for each continent"
   ]
  },
  {
   "cell_type": "code",
   "execution_count": null,
   "metadata": {},
   "outputs": [],
   "source": [
    "table(df$continent)"
   ]
  },
  {
   "cell_type": "markdown",
   "metadata": {},
   "source": [
    "Always use the summary tool to explore new data to get a quantitative overview of the data"
   ]
  },
  {
   "cell_type": "code",
   "execution_count": null,
   "metadata": {},
   "outputs": [],
   "source": [
    "summary(df)"
   ]
  },
  {
   "cell_type": "markdown",
   "metadata": {},
   "source": [
    "#### Step 4: Visualization in R"
   ]
  },
  {
   "cell_type": "markdown",
   "metadata": {},
   "source": [
    "Using the _plot_ to visualize life expectancy by country"
   ]
  },
  {
   "cell_type": "code",
   "execution_count": null,
   "metadata": {},
   "outputs": [],
   "source": [
    "plot(lifeExp ~ year, gapminder, subset = country == \"Afghanistan\", type = \"b\")\n",
    "plot(lifeExp ~ year, gapminder, subset = country == \"United States\", type = \"b\")"
   ]
  },
  {
   "cell_type": "markdown",
   "metadata": {},
   "source": [
    "We can add a second variable to plot life expectancy and GDP"
   ]
  },
  {
   "cell_type": "code",
   "execution_count": null,
   "metadata": {},
   "outputs": [],
   "source": [
    "plot(lifeExp ~ gdpPercap, gapminder, subset = year == 2007)"
   ]
  },
  {
   "cell_type": "markdown",
   "metadata": {},
   "source": [
    "What if we change the X-axis scale to log?"
   ]
  },
  {
   "cell_type": "code",
   "execution_count": null,
   "metadata": {},
   "outputs": [],
   "source": [
    "plot(lifeExp ~ gdpPercap, gapminder, subset = year == 2007, log = \"x\")"
   ]
  },
  {
   "cell_type": "markdown",
   "metadata": {},
   "source": [
    "__CAUTION:__ Visualizing information in different ways can lead readers to different interpretations"
   ]
  },
  {
   "cell_type": "markdown",
   "metadata": {},
   "source": [
    "Use boxplots to visualize grouped data"
   ]
  },
  {
   "cell_type": "code",
   "execution_count": null,
   "metadata": {},
   "outputs": [],
   "source": [
    "boxplot(df$lifeExp ~ df$continent)\n",
    "boxplot(df$gdpPercap ~ df$continent, log = \"y\")"
   ]
  },
  {
   "cell_type": "code",
   "execution_count": null,
   "metadata": {},
   "outputs": [],
   "source": [
    "par(mfrow=c(1,2))\n",
    "boxplot(df$lifeExp ~ df$continent)\n",
    "boxplot(df$gdpPercap ~ df$continent, log = \"y\")"
   ]
  },
  {
   "cell_type": "markdown",
   "metadata": {},
   "source": [
    "### Section II: Mapping with base plot"
   ]
  },
  {
   "cell_type": "markdown",
   "metadata": {},
   "source": [
    "Base plotting is a simple less sophicated way to make maps in R"
   ]
  },
  {
   "cell_type": "markdown",
   "metadata": {},
   "source": [
    "Load a basemap from the _maptools_ package"
   ]
  },
  {
   "cell_type": "code",
   "execution_count": null,
   "metadata": {},
   "outputs": [],
   "source": [
    "data(\"wrld_simpl\")"
   ]
  },
  {
   "cell_type": "markdown",
   "metadata": {},
   "source": [
    "Plot the basemap"
   ]
  },
  {
   "cell_type": "code",
   "execution_count": null,
   "metadata": {},
   "outputs": [],
   "source": [
    "plot(wrld_simpl)"
   ]
  },
  {
   "cell_type": "markdown",
   "metadata": {},
   "source": [
    "We can define the extent manually using _xlim_ & _ylim_"
   ]
  },
  {
   "cell_type": "code",
   "execution_count": null,
   "metadata": {},
   "outputs": [],
   "source": [
    "plot(wrld_simpl,\n",
    "     xlim=c(-130,-60),\n",
    "     ylim=c(25,50))"
   ]
  },
  {
   "cell_type": "markdown",
   "metadata": {},
   "source": [
    "We can add colors map and background by using the _col_ & _bg_ functions"
   ]
  },
  {
   "cell_type": "code",
   "execution_count": null,
   "metadata": {},
   "outputs": [],
   "source": [
    "plot(wrld_simpl,\n",
    "     xlim=c(-130,-60),\n",
    "     ylim=c(25,50),\n",
    "     col='olivedrab3', #Countries\n",
    "     bg='lightblue') #***Background in this case thats the ocean"
   ]
  },
  {
   "cell_type": "markdown",
   "metadata": {},
   "source": [
    "Now lets add \"UC\" to our map"
   ]
  },
  {
   "cell_type": "code",
   "execution_count": null,
   "metadata": {},
   "outputs": [],
   "source": [
    "plot(wrld_simpl,\n",
    "     xlim=c(-130,-60),\n",
    "     ylim=c(25,50),\n",
    "     col='olivedrab3', #Countries\n",
    "     bg='lightblue') #***Background in this case thats the ocean\n",
    "\n",
    "coords <- matrix(c(-84.518986, 39.132979),ncol=2)\n",
    "coords <- coordinates(coords)\n",
    "spoints <- SpatialPoints(coords)\n",
    "df <- data.frame(location=c(\"UC\"))\n",
    "spointsdf <- SpatialPointsDataFrame(spoints,df)\n",
    "plot(spointsdf,add=T,col=c('red'),pch=16) # add = T; adds this to existing plot"
   ]
  },
  {
   "cell_type": "code",
   "execution_count": null,
   "metadata": {},
   "outputs": [],
   "source": []
  },
  {
   "cell_type": "code",
   "execution_count": null,
   "metadata": {},
   "outputs": [],
   "source": []
  },
  {
   "cell_type": "code",
   "execution_count": null,
   "metadata": {},
   "outputs": [],
   "source": []
  },
  {
   "cell_type": "code",
   "execution_count": null,
   "metadata": {},
   "outputs": [],
   "source": []
  },
  {
   "cell_type": "code",
   "execution_count": null,
   "metadata": {},
   "outputs": [],
   "source": []
  },
  {
   "cell_type": "code",
   "execution_count": null,
   "metadata": {},
   "outputs": [],
   "source": []
  },
  {
   "cell_type": "code",
   "execution_count": null,
   "metadata": {},
   "outputs": [],
   "source": []
  },
  {
   "cell_type": "code",
   "execution_count": null,
   "metadata": {},
   "outputs": [],
   "source": []
  },
  {
   "cell_type": "code",
   "execution_count": null,
   "metadata": {},
   "outputs": [],
   "source": []
  },
  {
   "cell_type": "code",
   "execution_count": null,
   "metadata": {},
   "outputs": [],
   "source": []
  },
  {
   "cell_type": "code",
   "execution_count": null,
   "metadata": {},
   "outputs": [],
   "source": []
  },
  {
   "cell_type": "code",
   "execution_count": null,
   "metadata": {},
   "outputs": [],
   "source": []
  },
  {
   "cell_type": "code",
   "execution_count": null,
   "metadata": {},
   "outputs": [],
   "source": []
  },
  {
   "cell_type": "code",
   "execution_count": null,
   "metadata": {},
   "outputs": [],
   "source": []
  },
  {
   "cell_type": "code",
   "execution_count": null,
   "metadata": {},
   "outputs": [],
   "source": []
  },
  {
   "cell_type": "code",
   "execution_count": null,
   "metadata": {},
   "outputs": [],
   "source": []
  }
 ],
 "metadata": {
  "kernelspec": {
   "display_name": "R",
   "language": "R",
   "name": "ir"
  },
  "language_info": {
   "codemirror_mode": "r",
   "file_extension": ".r",
   "mimetype": "text/x-r-source",
   "name": "R",
   "pygments_lexer": "r",
   "version": "3.5.3"
  }
 },
 "nbformat": 4,
 "nbformat_minor": 2
}
